{
 "cells": [
  {
   "attachments": {},
   "cell_type": "markdown",
   "metadata": {},
   "source": [
    "# O que podemos fazer"
   ]
  },
  {
   "attachments": {},
   "cell_type": "markdown",
   "metadata": {},
   "source": [
    "#### Montar uma seleção \"perfeita\" com base nos dados\n",
    "##### Jogadores/MVP\n",
    "##### Ranking de players\n"
   ]
  },
  {
   "cell_type": "code",
   "execution_count": null,
   "metadata": {},
   "outputs": [],
   "source": [
    "# Pra fazer a seleção perfeita precisamos conhecer os jogadores\n",
    "\n",
    "# Quais os critérios pra definir o ranking? Já existe um ranking? quais critérios deles?\n",
    "\n",
    "\n",
    "\n",
    "\n",
    "# > Os critérios VARIAM de acordo com a posição do jogador\n",
    "# > Um ranking pra cada posição (Goleiro, zagueiros, MC etc)\n",
    "\n",
    "\n",
    "\n",
    "# Power BI: Fazer um CARD dos jogadores da Seleção Perfeita (Onde jogaram, principais características, idade, etc)\n",
    "# Talvez: Plotar um mapa mundi com a quantidade de jogadores de cada país na seleção perfeita.\n"
   ]
  },
  {
   "cell_type": "code",
   "execution_count": null,
   "metadata": {},
   "outputs": [],
   "source": [
    "'MF', #Meio campo\n",
    "'DF', # defesa\n",
    "'GK' # Goleiro"
   ]
  },
  {
   "cell_type": "code",
   "execution_count": null,
   "metadata": {},
   "outputs": [],
   "source": [
    "'Todos' # Nome, idade, posição, touches,  dribbles , dribbles_completed, passes_received, passes_completed, minutes_per_game, cards_yellow, cards_red, fouls, fouled, Goals, xg_assist , assists\n",
    "\n",
    "'FW' # xg, shots, shots_on_target, shots_on_target_pct (?) , goals_per_shot, goals_per_shot_on_target, crosses, gca\n",
    "\n",
    "'MF' # crosses, gca, passes_completed_short, passes_short, passes_pct_short, passes_completed_medium, passes_medium, passes_pct_medium, passes_completed_long, passes_long, passes_pct_long, progressive_passes,tackles, tackles_won, blocked_passes, interceptions (?)\n",
    "\n",
    "'DF' # tackles, tackles_won, blocked_passes, interceptions (?), errors, aerials_won_pct, ball_recoveries, pens_conceded, own_goals\n",
    "\n",
    "'GK' # gk_goals_against, gk_shots_on_target_against, gk_save_pct, gk_clean_sheets, gk_pens_att, gk_pens_allowed, gk_pens_saved, gk_pens_save_pct, gk_passes, gk_passes_completed_launched, gk_passes_completed_launched, gk_passes_length_avg, gk_goal_kick_length_avg, gk_crosses_stopped\n"
   ]
  }
 ],
 "metadata": {
  "kernelspec": {
   "display_name": "Python 3",
   "language": "python",
   "name": "python3"
  },
  "language_info": {
   "name": "python",
   "version": "3.9.6 (tags/v3.9.6:db3ff76, Jun 28 2021, 15:26:21) [MSC v.1929 64 bit (AMD64)]"
  },
  "orig_nbformat": 4,
  "vscode": {
   "interpreter": {
    "hash": "11938c6bc6919ae2720b4d5011047913343b08a43b18698fd82dedb0d4417594"
   }
  }
 },
 "nbformat": 4,
 "nbformat_minor": 2
}
